{
  "metadata": {
    "language_info": {
      "codemirror_mode": {
        "name": "python",
        "version": 3
      },
      "file_extension": ".py",
      "mimetype": "text/x-python",
      "name": "python",
      "nbconvert_exporter": "python",
      "pygments_lexer": "ipython3",
      "version": "3.8"
    },
    "kernelspec": {
      "name": "python",
      "display_name": "Python (Pyodide)",
      "language": "python"
    }
  },
  "nbformat_minor": 4,
  "nbformat": 4,
  "cells": [
    {
      "cell_type": "markdown",
      "source": "# Ongoing Object/Face detection project tutorial. https://youtu.be/yqkISICHH\n# Using this as a base for future detection application",
      "metadata": {}
    },
    {
      "cell_type": "code",
      "source": "import cv2\nimport uuid\nimport os\nimport time\n#import pyqt, lxml",
      "metadata": {
        "trusted": true
      },
      "execution_count": 13,
      "outputs": [
        {
          "ename": "<class 'ModuleNotFoundError'>",
          "evalue": "No module named 'pyqt'",
          "traceback": [
            "\u001b[0;31m---------------------------------------------------------------------------\u001b[0m",
            "\u001b[0;31mModuleNotFoundError\u001b[0m                       Traceback (most recent call last)",
            "Cell \u001b[0;32mIn[13], line 5\u001b[0m\n\u001b[1;32m      3\u001b[0m \u001b[38;5;28;01mimport\u001b[39;00m \u001b[38;5;21;01mos\u001b[39;00m\n\u001b[1;32m      4\u001b[0m \u001b[38;5;28;01mimport\u001b[39;00m \u001b[38;5;21;01mtime\u001b[39;00m\n\u001b[0;32m----> 5\u001b[0m \u001b[38;5;28;01mimport\u001b[39;00m \u001b[38;5;21;01mpyqt\u001b[39;00m\u001b[38;5;241m,\u001b[39m \u001b[38;5;21;01mlxml\u001b[39;00m\n",
            "\u001b[0;31mModuleNotFoundError\u001b[0m: No module named 'pyqt'"
          ],
          "output_type": "error"
        }
      ]
    },
    {
      "cell_type": "code",
      "source": "labels = ['thumbsup','thumbsdown','thankyou','livelong']\nnumber_imgs = 5",
      "metadata": {
        "trusted": true
      },
      "execution_count": 6,
      "outputs": []
    },
    {
      "cell_type": "code",
      "source": "IMAGES_PATH = os.path.join('Tensorflow','workspace','images','collectedimages')",
      "metadata": {
        "trusted": true
      },
      "execution_count": 7,
      "outputs": []
    },
    {
      "cell_type": "markdown",
      "source": "os.makedirs(IMAGES_PATH) = !mkdir -p {IMAGES_PATH}",
      "metadata": {}
    },
    {
      "cell_type": "code",
      "source": "if not os.path.exists(IMAGES_PATH):\n    if os.name == 'posix':\n        os.makedirs(IMAGES_PATH)\n    if os.name == 'nt':\n        os.makedirs(IMAGES_PATH)\nfor label in labels:\n    path = os.path.join(IMAGES_PATH, label)\n    if not os.path.exists(path):\n        os.makedirs(path)",
      "metadata": {
        "trusted": true
      },
      "execution_count": 11,
      "outputs": []
    },
    {
      "cell_type": "code",
      "source": "for label in labels:\n    cap = cv2.VideoCapture(0) # Connects to webcam or capture device\n    print(f'Collecting images for {label}')\n    time.sleep(5)\n    for imgnum in range(number_imgs):\n        print(f'Collecting image {imgnum}')\n        ret, frame = cap.read()\n        imgname = os.path.join(IMAGES_PATH, label, label+'.'+f'{str(uuid.uuid1())}.jpg')\n        cv2.imwrite(imgname, frame)\n        cv2.imshow('frame', frame)\n        time.sleep(2)\n        \n        if cv2.waitkey(1) and 0xFF == ord('q'):\n            break\ncap.release()\ncv2.destoryAllWindows()",
      "metadata": {},
      "execution_count": null,
      "outputs": []
    },
    {
      "cell_type": "code",
      "source": "",
      "metadata": {},
      "execution_count": null,
      "outputs": []
    }
  ]
}